{
 "cells": [
  {
   "cell_type": "markdown",
   "metadata": {},
   "source": [
    "# Supplementary Materials"
   ]
  },
  {
   "cell_type": "markdown",
   "metadata": {},
   "source": [
    "The Supplementary Materials consists of the following Jupyter notebooks:\n",
    "\n",
    "[Section3.ipynb](http://nbviewer.jupyter.org/github/IgorDouven/ERER/blob/master/Section3.ipynb)\n",
    "\n",
    "[Section4A.ipynb](https://nbviewer.jupyter.org/github/IgorDouven/ERER/blob/master/Section4A.ipynb)\n",
    "\n",
    "[Section4B.ipynb](https://nbviewer.jupyter.org/github/IgorDouven/ERER/blob/master/Section4B.ipynb)\n",
    "\n",
    "These notebooks contain the code of the simulations reported in Sections 3 and 4 of the paper.\n",
    "\n",
    "The code is in Julia, a new open-source language for scientific computing that combines high productivity with high performance. At the time of this writing (April 2018), Julia is still in beta&mdash;the version used was Julia 0.6.2.2. However, version 1.0 is expected to come out in the summer of 2018. You can find more information about Julia [here](https://julialang.org).\n",
    "\n",
    "The code has been organized in Jupyter notebooks. These can be used in two different ways. Julia code reads like pseudo-code, so by going through the notebooks, one can easily gain a deeper understanding of the simulations.\n",
    "\n",
    "A more productive way to use the notebooks is to download them [here](https://osf.io/fbswm/?view_only=f3168a75d5794730b34613de5be99105) or [here](https://github.com/IgorDouven/ERER) and to try some variations for oneself.\n",
    "\n",
    "To use the notebooks interactively, one does not even need an installation of Julia on one's computer. It is enough to upload the notebooks on [JuliaBox](https://juliabox.com), which is a free service. However, on JuliaBox parallel computing is limited, so I do recommend running Julia locally. An easy way to install it is by downloading JuliaPro from the [Julia Computing website](https://juliacomputing.com). JuliaPro ships with the Juno editor, which is perfect for working with Julia; good alternatives are [VSCode](https://code.visualstudio.com) and [Sublime text](https://www.sublimetext.com), both of which have support for the Julia language.\n",
    "\n",
    "But notebooks cannot be loaded into any of those editors. To work with the notebooks, one will either have to use the IJulia package via the command line, or download [JupyterLab](https://github.com/jupyterlab/jupyterlab), which has a lot of added functionality. At the moment, JupyterLab is also still in beta, but I have used it extensively without running into any noteworthy difficulties."
   ]
  }
 ],
 "metadata": {
  "kernelspec": {
   "display_name": "Julia 0.6.2",
   "language": "julia",
   "name": "julia-0.6"
  },
  "language_info": {
   "file_extension": ".jl",
   "mimetype": "application/julia",
   "name": "julia",
   "version": "0.6.2"
  }
 },
 "nbformat": 4,
 "nbformat_minor": 2
}
